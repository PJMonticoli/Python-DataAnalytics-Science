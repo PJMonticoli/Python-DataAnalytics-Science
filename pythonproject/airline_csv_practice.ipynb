{
 "cells": [
  {
   "cell_type": "code",
   "execution_count": null,
   "metadata": {},
   "outputs": [],
   "source": [
    "import pandas as pd\n"
   ]
  },
  {
   "cell_type": "code",
   "execution_count": null,
   "metadata": {},
   "outputs": [],
   "source": [
    "# Leo tabla\n",
    "tabla = pd.read_csv('https://raw.githubusercontent.com/fivethirtyeight/data/master/airline-safety/airline-safety.csv',encoding=\"ISO-8859-1\")"
   ]
  },
  {
   "cell_type": "code",
   "execution_count": null,
   "metadata": {},
   "outputs": [],
   "source": [
    "# Creo dataframe\n",
    "df_tabla = pd.DataFrame(tabla)\n",
    "print(df_tabla)"
   ]
  },
  {
   "cell_type": "code",
   "execution_count": null,
   "metadata": {},
   "outputs": [],
   "source": [
    "# Imprimo los 5 primeros registros\n",
    "print(df_tabla.head(5))"
   ]
  },
  {
   "cell_type": "code",
   "execution_count": null,
   "metadata": {},
   "outputs": [],
   "source": [
    "# Limpio dataframe\n",
    "df_limpio = df_tabla.dropna()\n",
    "print(df_limpio)"
   ]
  },
  {
   "cell_type": "code",
   "execution_count": null,
   "metadata": {},
   "outputs": [],
   "source": [
    "# df_limpio.info()\n",
    "# Promedio de asientos disponibles por semana \n",
    "avg_avail_seat_km_per_week = df_limpio[\"avail_seat_km_per_week\"].mean()\n",
    "print(avg_avail_seat_km_per_week)\n",
    "# Promedio de incidentes\n",
    "avg_incidents_85_99  = df_limpio[\"incidents_85_99\"].mean()\n",
    "print(avg_incidents_85_99)\n",
    "# desviación estándar de la columna\n",
    "desviacion_estandar = df_limpio[\"incidents_85_99\"].std()\n",
    "print(desviacion_estandar)"
   ]
  },
  {
   "cell_type": "code",
   "execution_count": null,
   "metadata": {},
   "outputs": [],
   "source": [
    "print(avg_avail_seat_km_per_week)\n",
    "# Promedio de incidentes\n",
    "avg_incidents_85_99  = df_limpio[\"incidents_85_99\"].mean()\n",
    "print(avg_incidents_85_99)"
   ]
  },
  {
   "cell_type": "code",
   "execution_count": null,
   "metadata": {},
   "outputs": [],
   "source": [
    "df_menos_incidentes = df_tabla[df_tabla[\"incidents_85_99\"] < 3]\n",
    "cant = df_menos_incidentes[\"airline\"].value_counts().sum()\n",
    "print(f\"Existen {cant} aerolineas con una cantidad menor a 3 incidentes\")"
   ]
  },
  {
   "cell_type": "code",
   "execution_count": null,
   "metadata": {},
   "outputs": [],
   "source": [
    "import seaborn as sns\n",
    "import matplotlib.pyplot as plt"
   ]
  },
  {
   "cell_type": "code",
   "execution_count": null,
   "metadata": {},
   "outputs": [],
   "source": [
    "# Ordenar las aerolíneas por cantidad de incidentes en el periodo de 85-99 de forma descendente\n",
    "top_aerolineas = df_tabla.sort_values(by=\"incidents_85_99\", ascending=False).head(10)\n",
    "# Crea un gráfico de barras para mostrar las 10 aerolíneas con más incidentes en el periodo de 85-99\n",
    "plt.figure(figsize=(10,6))\n",
    "sns.barplot(x=\"incidents_85_99\", y=\"airline\", data=top_aerolineas,palette=\"viridis\")\n",
    "plt.xlabel(\"Cantidad de Incidentes (1985-1999)\")\n",
    "plt.ylabel(\"Aerolineas\")\n",
    "plt.title(\"Top 10 Aerolíneas con Más Incidentes (1985-1999)\")\n",
    "plt.show()"
   ]
  },
  {
   "cell_type": "code",
   "execution_count": null,
   "metadata": {},
   "outputs": [],
   "source": [
    "# Realiza un gráfico de dispersión para comparar la cantidad de asientos disponibles por semana (avail_seat_km_per_week) con el número de incidentes (incidents_85_99)\n",
    "plt.figure(figsize=(8,6))\n",
    "sns.scatterplot(x=\"avail_seat_km_per_week\", y=\"incidents_85_99\", data=df_tabla, alpha=0.8)\n",
    "plt.xlabel(\"Asientos disponibles por semana\")\n",
    "plt.ylabel(\"Número de Incidentes (1985-1999)\")\n",
    "plt.title(\"Relación entre Asientos Disponibles y Incidentes (1985-1999)\")\n",
    "plt.tight_layout()\n",
    "plt.show()"
   ]
  },
  {
   "cell_type": "code",
   "execution_count": null,
   "metadata": {},
   "outputs": [],
   "source": [
    "# Compara el número de incidentes, accidentes fatales y fatalidades entre el periodo de 85-99 y el periodo de 00-14.\n",
    "comparacion_fatal_accidents = df_tabla[\"fatal_accidents_85_99\"].diff()\n",
    "comparacion_fatalities = df_tabla[\"fatalities_85_99\"].diff()\n",
    "\n",
    "print(\"Diferencias en accidentes fatales entre 1985-1999 y 2000-2014:\")\n",
    "print(comparacion_fatal_accidents)\n",
    "\n",
    "print(\"\\nDiferencias en fatalidades entre 1985-1999 y 2000-2014:\")\n",
    "print(comparacion_fatalities)\n"
   ]
  },
  {
   "cell_type": "code",
   "execution_count": null,
   "metadata": {},
   "outputs": [],
   "source": [
    "# ¿Hay alguna tendencia clara en la seguridad de las aerolíneas durante estos dos periodos?\n",
    "# Crear subconjuntos de datos para los dos periodos\n",
    "periodo_85_99 = df_tabla[['airline', 'incidents_85_99', 'fatal_accidents_85_99', 'fatalities_85_99']]\n",
    "periodo_00_14 = df_tabla[['airline', 'incidents_00_14', 'fatal_accidents_00_14', 'fatalities_00_14']]\n",
    "\n",
    "# Calcular sumas totales por periodo\n",
    "sumas_85_99 = periodo_85_99.sum()\n",
    "sumas_00_14 = periodo_00_14.sum()\n",
    "\n",
    "# Crear gráfico de barras para comparar incidentes y accidentes fatales\n",
    "fig, ax = plt.subplots(figsize=(10, 6))\n",
    "\n",
    "incidentes = [sumas_85_99['incidents_85_99'], sumas_00_14['incidents_00_14']]\n",
    "accidentes_fatales = [sumas_85_99['fatal_accidents_85_99'], sumas_00_14['fatal_accidents_00_14']]\n",
    "\n",
    "bar_width = 0.35\n",
    "index = ['1985-1999', '2000-2014']\n",
    "\n",
    "bar1 = ax.bar(index, incidentes, bar_width, label='Incidentes')\n",
    "bar2 = ax.bar(index, accidentes_fatales, bar_width, label='Accidentes fatales', bottom=incidentes)\n",
    "\n",
    "ax.set_xlabel('Periodo')\n",
    "ax.set_ylabel('Cantidad')\n",
    "ax.set_title('Comparación de incidentes y accidentes fatales por periodo')\n",
    "ax.legend()\n",
    "\n",
    "plt.show()"
   ]
  },
  {
   "cell_type": "code",
   "execution_count": null,
   "metadata": {},
   "outputs": [],
   "source": [
    "# Utiliza regresión lineal para predecir el número de incidentes en el periodo de 00-14 basado en los datos del periodo de 85-99.\n",
    "from sklearn.model_selection import train_test_split\n",
    "from sklearn.linear_model import LinearRegression\n",
    "\n",
    "x = df_tabla[['incidents_85_99']].values\n",
    "y = df_tabla['incidents_00_14'].values\n",
    "\n",
    "# Dividir los datos en conjunto de entrenamiento y prueba\n",
    "x_train, x_test, y_train, y_test = train_test_split(x, y, test_size=0.2, random_state=42)\n",
    "\n",
    "# Crear el modelo de regresión lineal y ajustarlo a los datos de entrenamiento\n",
    "modelo = LinearRegression()\n",
    "modelo.fit(x_train, y_train)\n",
    "\n",
    "# Predecir los incidentes en el periodo de 2000-2014 en base al 85-99.\n",
    "y_pred = modelo.predict(x_test)\n",
    "\n",
    "# Visualizar los resultados\n",
    "plt.figure(figsize=(10, 6))\n",
    "plt.scatter(x_test, y_test, color='blue', label='Datos reales')\n",
    "plt.plot(x_test, y_pred, color='red', linewidth=2, label='Predicción')\n",
    "plt.xlabel('Incidentes 1985-1999')\n",
    "plt.ylabel('Incidentes 2000-2014')\n",
    "plt.title('Regresión lineal: Predicción de incidentes 2000-2014 basados en 1985-1999')\n",
    "plt.legend()\n",
    "plt.show()"
   ]
  }
 ],
 "metadata": {
  "kernelspec": {
   "display_name": "Python 3",
   "language": "python",
   "name": "python3"
  },
  "language_info": {
   "codemirror_mode": {
    "name": "ipython",
    "version": 3
   },
   "file_extension": ".py",
   "mimetype": "text/x-python",
   "name": "python",
   "nbconvert_exporter": "python",
   "pygments_lexer": "ipython3",
   "version": "3.11.9"
  }
 },
 "nbformat": 4,
 "nbformat_minor": 2
}
