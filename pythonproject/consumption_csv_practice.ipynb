{
 "cells": [
  {
   "cell_type": "code",
   "execution_count": null,
   "metadata": {},
   "outputs": [],
   "source": [
    "import pandas as pd\n",
    "import seaborn as sns\n",
    "import matplotlib.pyplot as plt\n"
   ]
  },
  {
   "cell_type": "code",
   "execution_count": null,
   "metadata": {},
   "outputs": [],
   "source": [
    "df_tabla = pd.read_csv('https://raw.githubusercontent.com/fivethirtyeight/data/master/alcohol-consumption/drinks.csv')"
   ]
  },
  {
   "cell_type": "code",
   "execution_count": null,
   "metadata": {},
   "outputs": [],
   "source": [
    "# Mostrar las primeras filas del DataFrame\n",
    "print(df_tabla.head())\n",
    "\n",
    "# Mostrar información general del DataFrame\n",
    "print(df_tabla.info())\n",
    "\n",
    "# Resumen estadístico del DataFrame\n",
    "print(df_tabla.describe())"
   ]
  },
  {
   "cell_type": "code",
   "execution_count": null,
   "metadata": {},
   "outputs": [],
   "source": [
    "# Análisis de los países con mayor y menor consumo total de alcohol\n",
    "max_consumo = df_tabla.loc[df_tabla['total_litres_of_pure_alcohol'].idxmax()]\n",
    "print(f\"País con mayor consumo total de alcohol: {max_consumo['country']}\")\n",
    "\n",
    "min_consumo = df_tabla.loc[df_tabla[\"total_litres_of_pure_alcohol\"].idxmin()]\n",
    "print(f\"País con menor consumo total de alcohol: {min_consumo['country']}\")"
   ]
  },
  {
   "cell_type": "code",
   "execution_count": null,
   "metadata": {},
   "outputs": [],
   "source": [
    "# Promedio de consumo de cada tipo de bebida por pais \n",
    "df_promedio_consumo_pais = df_tabla.groupby('country').mean()\n",
    "print(df_promedio_consumo_pais)"
   ]
  },
  {
   "cell_type": "code",
   "execution_count": null,
   "metadata": {},
   "outputs": [],
   "source": [
    "# Análisis de correlación entre el consumo de diferentes tipos de bebidas\n",
    "correlation_matrix = df_tabla[['beer_servings', 'spirit_servings', 'wine_servings', 'total_litres_of_pure_alcohol']].corr()\n",
    "print(correlation_matrix)\n",
    "# visualización de la matriz de correlación con seaborn\n",
    "sns.heatmap(correlation_matrix,annot=True,cmap=\"coolwarm\") #annot true agrega los valores dentro de cada celda del grafico \n",
    "plt.show()"
   ]
  },
  {
   "cell_type": "code",
   "execution_count": null,
   "metadata": {},
   "outputs": [],
   "source": [
    "# ¿Cuántos países están incluidos en el dataset?\n",
    "num_paises = df_tabla['country'].nunique()\n",
    "\n",
    "print(f'El dataset incluye {num_paises} países.')\n",
    "# ¿Cuáles son los nombres de las columnas del DataFrame?\n",
    "print(df_tabla.columns)"
   ]
  },
  {
   "cell_type": "code",
   "execution_count": null,
   "metadata": {},
   "outputs": [],
   "source": [
    "# Genera un resumen estadístico de las columnas numéricas del DataFrame\n",
    "df_resumen = df_tabla[[\"beer_servings\", \"spirit_servings\", \"wine_servings\", \"total_litres_of_pure_alcohol\"]].describe()\n",
    "print(df_resumen)"
   ]
  },
  {
   "cell_type": "code",
   "execution_count": null,
   "metadata": {},
   "outputs": [],
   "source": [
    "# Filtrar el DataFrame para mostrar solo los países con más de 200 beer_servings\n",
    "df_filtrado = df_tabla.loc[df_tabla[\"beer_servings\"] > 200]\n",
    "\n",
    "# Mostrar los países filtrados\n",
    "print(f\"Los países con más de 200 beer_servings son {df_filtrado['country'].tolist()}\")"
   ]
  },
  {
   "cell_type": "code",
   "execution_count": null,
   "metadata": {},
   "outputs": [],
   "source": [
    "# Selecciona las columnas country y wine_servings para los países que tienen más de 150 wine_servings.\n",
    "df_filtrado = df_tabla.loc[df_tabla['wine_servings'] > 150, ['country','wine_servings']]\n",
    "print(df_filtrado)"
   ]
  },
  {
   "cell_type": "code",
   "execution_count": null,
   "metadata": {},
   "outputs": [],
   "source": [
    "# Agrupa los datos por la cantidad de beer_servings y calcula la media de total_litres_of_pure_alcohol para cada grupo.\n",
    "df_agrupado = df_tabla.groupby('beer_servings')['total_litres_of_pure_alcohol'].mean()\n",
    "print(df_agrupado)"
   ]
  },
  {
   "cell_type": "code",
   "execution_count": null,
   "metadata": {},
   "outputs": [],
   "source": [
    "# Crea un gráfico de cajas (box plot) para comparar las distribuciones de beer_servings, spirit_servings y wine_servings.\n",
    "df_grafico = df_tabla[['beer_servings', 'spirit_servings', 'wine_servings']]\n",
    "plt.figure(figsize=(10,6))\n",
    "sns.barplot(data=df_grafico)\n",
    "plt.title('Distribuciones de Beer Servings, Spirit Servings y Wine Servings')\n",
    "plt.xlabel(\"Tipo de Bebida\")\n",
    "plt.ylabel(\"Cantidad\")\n",
    "plt.tight_layout()\n",
    "plt.show()"
   ]
  },
  {
   "cell_type": "code",
   "execution_count": null,
   "metadata": {},
   "outputs": [],
   "source": []
  }
 ],
 "metadata": {
  "kernelspec": {
   "display_name": "Python 3",
   "language": "python",
   "name": "python3"
  },
  "language_info": {
   "codemirror_mode": {
    "name": "ipython",
    "version": 3
   },
   "file_extension": ".py",
   "mimetype": "text/x-python",
   "name": "python",
   "nbconvert_exporter": "python",
   "pygments_lexer": "ipython3",
   "version": "3.11.9"
  }
 },
 "nbformat": 4,
 "nbformat_minor": 2
}
