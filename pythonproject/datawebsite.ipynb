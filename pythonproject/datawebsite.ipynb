{
 "cells": [
  {
   "cell_type": "code",
   "execution_count": 108,
   "metadata": {},
   "outputs": [],
   "source": [
    "import pandas as pd\n",
    "from string import ascii_uppercase as alfabeto\n",
    "import pickle # se utiliza para serializar y deserializar objetos de Python"
   ]
  },
  {
   "cell_type": "code",
   "execution_count": null,
   "metadata": {},
   "outputs": [],
   "source": [
    "# A => H\n",
    "todas_tablas = pd.read_html('https://web.archive.org/web/20221115040351/https://en.wikipedia.org/wiki/2022_FIFA_World_Cup')\n",
    "\n",
    "dict_tablas = {}\n",
    "for letra,i in zip(alfabeto,range(12,54,7)) :\n",
    "    df = todas_tablas[i]\n",
    "    df.rename(columns={df.columns[1] : 'Team'},inplace=True)\n",
    "    df.pop('Qualification')\n",
    "    dict_tablas[f'Grupo {letra}']  = df\n",
    "    print(df)\n",
    "    \n"
   ]
  },
  {
   "cell_type": "code",
   "execution_count": 109,
   "metadata": {},
   "outputs": [],
   "source": [
    "# Abrir un archivo en modo escritura binaria \"wb\"\n",
    "with open('dict_table', 'wb') as output:\n",
    "    pickle.dump(dict_tablas,output) # pickle.dump para serializar y guardar el diccionario dict_tablas "
   ]
  }
 ],
 "metadata": {
  "kernelspec": {
   "display_name": "Python 3",
   "language": "python",
   "name": "python3"
  },
  "language_info": {
   "codemirror_mode": {
    "name": "ipython",
    "version": 3
   },
   "file_extension": ".py",
   "mimetype": "text/x-python",
   "name": "python",
   "nbconvert_exporter": "python",
   "pygments_lexer": "ipython3",
   "version": "3.11.9"
  }
 },
 "nbformat": 4,
 "nbformat_minor": 2
}
