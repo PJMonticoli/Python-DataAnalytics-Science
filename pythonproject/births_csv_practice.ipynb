{
 "cells": [
  {
   "cell_type": "code",
   "execution_count": null,
   "metadata": {},
   "outputs": [],
   "source": [
    "import pandas as pd\n",
    "import seaborn as sns\n",
    "import matplotlib.pyplot as plt"
   ]
  },
  {
   "cell_type": "code",
   "execution_count": 24,
   "metadata": {},
   "outputs": [],
   "source": [
    "df_tabla = pd.read_csv('https://raw.githubusercontent.com/fivethirtyeight/data/master/births/US_births_1994-2003_CDC_NCHS.csv')"
   ]
  },
  {
   "cell_type": "code",
   "execution_count": null,
   "metadata": {},
   "outputs": [],
   "source": [
    "# Grafica el número total de nacimientos por mes usando un gráfico de líneas.\n",
    "# Agrupar por mes y sumar los nacimientos\n",
    "df_mes = df_tabla.groupby('month')['births'].sum().reset_index()\n",
    "\n",
    "# Graficar el número total de nacimientos por mes usando un gráfico de líneas\n",
    "plt.figure(figsize=(10, 6))\n",
    "sns.lineplot(x='month', y='births', data=df_mes, marker='o', color='b', linestyle='-')\n",
    "plt.xlabel(\"Mes\")\n",
    "plt.ylabel(\"Número de Nacimientos\")\n",
    "plt.title(\"Número total de nacimientos por mes\")\n",
    "plt.xticks(range(1, 13), labels=['Ene', 'Feb', 'Mar', 'Abr', 'May', 'Jun', 'Jul', 'Ago', 'Sep', 'Oct', 'Nov', 'Dic'])\n",
    "plt.tight_layout()\n",
    "plt.show()\n"
   ]
  },
  {
   "cell_type": "code",
   "execution_count": null,
   "metadata": {},
   "outputs": [],
   "source": [
    "# Crea un gráfico de barras mostrando el número total de nacimientos para cada día de la semana.\n",
    "df_filtrado = df_tabla.groupby('day_of_week')['births'].sum().reset_index()\n",
    "\n",
    "# Graficar el número total de nacimientos por día de la semana usando un gráfico de barras\n",
    "plt.figure(figsize=(10, 6))\n",
    "sns.barplot(x='day_of_week', y='births', data=df_filtrado)\n",
    "\n",
    "# Personalizar etiquetas y título del gráfico\n",
    "plt.xlabel(\"Día de la semana\")\n",
    "plt.ylabel(\"Cantidad de Nacimientos\")\n",
    "plt.title(\"Número total de nacimientos para cada día de la semana\")\n",
    "plt.xticks(ticks=range(7), labels=[\"Lun\", \"Mar\", \"Mié\", \"Jue\", \"Vie\", \"Sáb\", \"Dom\"])\n",
    "\n",
    "# Ajustar el diseño y mostrar el gráfico\n",
    "plt.tight_layout()\n",
    "plt.show()"
   ]
  },
  {
   "cell_type": "code",
   "execution_count": null,
   "metadata": {},
   "outputs": [],
   "source": [
    "# Usa Seaborn para crear un gráfico de caja de nacimientos por mes.\n",
    "df_tabla = df_tabla.groupby('month')['births'].sum().reset_index()\n",
    "plt.figure(figsize=(10, 6))\n",
    "sns.boxplot(x='month', y='births', data=df_tabla)\n",
    "plt.xlabel(\"Mes\")\n",
    "plt.ylabel(\"Cantidad de nacimientos por mes\")\n",
    "plt.title(\"Gráfico de caja de nacimientos por mes\")\n",
    "plt.xticks(range(12), labels=['Ene', 'Feb', 'Mar', 'Abr', 'May', 'Jun', 'Jul', 'Ago', 'Sep', 'Oct', 'Nov', 'Dic'])\n",
    "plt.tight_layout()\n",
    "plt.show()"
   ]
  },
  {
   "cell_type": "code",
   "execution_count": null,
   "metadata": {},
   "outputs": [],
   "source": [
    "# Calcula el promedio de nacimientos para cada mes a lo largo de todos los años.\n",
    "df_promedio = df_tabla.groupby('month')['births'].mean().reset_index()\n",
    "print(df_promedio)"
   ]
  },
  {
   "cell_type": "code",
   "execution_count": 25,
   "metadata": {},
   "outputs": [
    {
     "name": "stdout",
     "output_type": "stream",
     "text": [
      "             day_of_week    births\n",
      "day_of_week     1.000000 -0.661062\n",
      "births         -0.661062  1.000000\n"
     ]
    }
   ],
   "source": [
    "# Calcula la correlación entre el día de la semana y el número de nacimientos.\n",
    "matriz_corr = df_tabla[[\"day_of_week\", \"births\"]].corr()\n",
    "print(matriz_corr)"
   ]
  }
 ],
 "metadata": {
  "kernelspec": {
   "display_name": "Python 3",
   "language": "python",
   "name": "python3"
  },
  "language_info": {
   "codemirror_mode": {
    "name": "ipython",
    "version": 3
   },
   "file_extension": ".py",
   "mimetype": "text/x-python",
   "name": "python",
   "nbconvert_exporter": "python",
   "pygments_lexer": "ipython3",
   "version": "3.11.9"
  }
 },
 "nbformat": 4,
 "nbformat_minor": 2
}
